{
 "cells": [
  {
   "cell_type": "code",
   "execution_count": 4,
   "metadata": {},
   "outputs": [],
   "source": [
    "import os\n",
    "from azure.core.credentials import AzureKeyCredential\n",
    "from azure.search.documents.indexes import SearchIndexClient \n",
    "from azure.search.documents import SearchClient\n",
    "from azure.search.documents.indexes.models import (\n",
    "    ComplexField,\n",
    "    CorsOptions,\n",
    "    SearchIndex,\n",
    "    ScoringProfile,\n",
    "    SearchFieldDataType,\n",
    "    SimpleField,\n",
    "    SearchableField\n",
    ")"
   ]
  },
  {
   "cell_type": "code",
   "execution_count": 5,
   "metadata": {},
   "outputs": [],
   "source": [
    "import yaml\n",
    "\n",
    "with open('../creds.dev.yml') as credsfi:\n",
    "    creds = yaml.safe_load(credsfi)\n",
    "\n",
    "\n",
    "service_name = creds['service_name']\n",
    "admin_key = creds['primary_admin']\n",
    "\n",
    "index_name = \"hotels-quickstart\"\n",
    "\n",
    "# Create an SDK client\n",
    "endpoint = \"https://{}.search.windows.net/\".format(service_name)\n",
    "admin_client = SearchIndexClient(endpoint=endpoint,\n",
    "                      index_name=index_name,\n",
    "                      credential=AzureKeyCredential(admin_key))\n",
    "\n",
    "search_client = SearchClient(endpoint=endpoint,\n",
    "                      index_name=index_name,\n",
    "                      credential=AzureKeyCredential(admin_key))"
   ]
  },
  {
   "cell_type": "code",
   "execution_count": 6,
   "metadata": {},
   "outputs": [
    {
     "name": "stdout",
     "output_type": "stream",
     "text": [
      "Index hotels-quickstart Deleted\n"
     ]
    }
   ],
   "source": [
    "# clear out any existing data\n",
    "try:\n",
    "    result = admin_client.delete_index(index_name)\n",
    "    print ('Index', index_name, 'Deleted')\n",
    "except Exception as ex:\n",
    "    print (ex)"
   ]
  },
  {
   "cell_type": "code",
   "execution_count": 7,
   "metadata": {},
   "outputs": [],
   "source": [
    "# Specify the index schema\n",
    "name = index_name\n",
    "fields = [\n",
    "        SimpleField(name=\"HotelId\", type=SearchFieldDataType.String, key=True),\n",
    "        SearchableField(name=\"HotelName\", type=SearchFieldDataType.String, sortable=True),\n",
    "        SearchableField(name=\"Description\", type=SearchFieldDataType.String, analyzer_name=\"en.lucene\"),\n",
    "        SearchableField(name=\"Description_fr\", type=SearchFieldDataType.String, analyzer_name=\"fr.lucene\"),\n",
    "        SearchableField(name=\"Category\", type=SearchFieldDataType.String, facetable=True, filterable=True, sortable=True),\n",
    "\n",
    "        SearchableField(name=\"Tags\", collection=True, type=SearchFieldDataType.String, facetable=True, filterable=True),\n",
    "\n",
    "        SimpleField(name=\"ParkingIncluded\", type=SearchFieldDataType.Boolean, facetable=True, filterable=True, sortable=True),\n",
    "        SimpleField(name=\"LastRenovationDate\", type=SearchFieldDataType.DateTimeOffset, facetable=True, filterable=True, sortable=True),\n",
    "        SimpleField(name=\"Rating\", type=SearchFieldDataType.Double, facetable=True, filterable=True, sortable=True),\n",
    "\n",
    "        ComplexField(name=\"Address\", fields=[\n",
    "            SearchableField(name=\"StreetAddress\", type=SearchFieldDataType.String),\n",
    "            SearchableField(name=\"City\", type=SearchFieldDataType.String, facetable=True, filterable=True, sortable=True),\n",
    "            SearchableField(name=\"StateProvince\", type=SearchFieldDataType.String, facetable=True, filterable=True, sortable=True),\n",
    "            SearchableField(name=\"PostalCode\", type=SearchFieldDataType.String, facetable=True, filterable=True, sortable=True),\n",
    "            SearchableField(name=\"Country\", type=SearchFieldDataType.String, facetable=True, filterable=True, sortable=True),\n",
    "        ])\n",
    "    ]\n",
    "cors_options = CorsOptions(allowed_origins=[\"*\"], max_age_in_seconds=60)\n",
    "scoring_profiles = []\n",
    "suggester = [{'name': 'sg', 'source_fields': ['Tags', 'Address/City', 'Address/Country']}]"
   ]
  },
  {
   "cell_type": "code",
   "execution_count": 8,
   "metadata": {},
   "outputs": [
    {
     "name": "stdout",
     "output_type": "stream",
     "text": [
      "Index hotels-quickstart created\n"
     ]
    }
   ],
   "source": [
    "index = SearchIndex(\n",
    "    name=name,\n",
    "    fields=fields,\n",
    "    scoring_profiles=scoring_profiles,\n",
    "    suggesters = suggester,\n",
    "    cors_options=cors_options)\n",
    "\n",
    "try:\n",
    "    result = admin_client.create_index(index)\n",
    "    print ('Index', result.name, 'created')\n",
    "except Exception as ex:\n",
    "    print (ex)"
   ]
  },
  {
   "cell_type": "code",
   "execution_count": 9,
   "metadata": {},
   "outputs": [
    {
     "name": "stdout",
     "output_type": "stream",
     "text": [
      "4\n"
     ]
    }
   ],
   "source": [
    "import yaml\n",
    "\n",
    "with open('documents.json') as infi:\n",
    "    documents = yaml.safe_load(infi)\n",
    "    \n",
    "print(len(documents))"
   ]
  },
  {
   "cell_type": "code",
   "execution_count": 2,
   "metadata": {},
   "outputs": [],
   "source": []
  },
  {
   "cell_type": "code",
   "execution_count": null,
   "metadata": {},
   "outputs": [],
   "source": []
  },
  {
   "cell_type": "code",
   "execution_count": 12,
   "metadata": {},
   "outputs": [
    {
     "name": "stdout",
     "output_type": "stream",
     "text": [
      "Upload of new 4 document(s) succeeded: True\n"
     ]
    }
   ],
   "source": [
    "try:\n",
    "    result = search_client.upload_documents(documents=documents)\n",
    "    print(\"Upload of new {} document(s) succeeded: {}\".format(len(documents), result[0].succeeded))\n",
    "except Exception as ex:\n",
    "    print(ex.message)\n",
    "    \n",
    "# it seems that `key`s are unique (in our case HotelId) so if you upload a duplicate document,\n",
    "# it will reupload the same doc with no exception"
   ]
  },
  {
   "cell_type": "code",
   "execution_count": 14,
   "metadata": {},
   "outputs": [
    {
     "name": "stdout",
     "output_type": "stream",
     "text": [
      "Upload of new 4 document(s) succeeded: True\n"
     ]
    }
   ],
   "source": [
    "# let's test this out by changing the name of one of the hotels\n",
    "# update: yep!\n",
    "\n",
    "documents[0]['HotelName'] += ' IS CHANGED NOW!'\n",
    "\n",
    "try:\n",
    "    result = search_client.upload_documents(documents=documents)\n",
    "    print(\"Upload of new {} document(s) succeeded: {}\".format(len(documents), result[0].succeeded))\n",
    "except Exception as ex:\n",
    "    print(ex.message)\n",
    "    \n",
    "# it seems that `key`s are unique (in our case HotelId) so if you upload a duplicate document,\n",
    "# it will reupload the same doc with no exception"
   ]
  },
  {
   "cell_type": "code",
   "execution_count": 15,
   "metadata": {},
   "outputs": [
    {
     "name": "stdout",
     "output_type": "stream",
     "text": [
      "Total Documents Matching Query: 4\n",
      "1: Secret Point Motel IS CHANGED NOW!\n",
      "2: Twin Dome Motel\n",
      "3: Triple Landscape Hotel\n",
      "4: Sublime Cliff Hotel\n"
     ]
    }
   ],
   "source": [
    "# executes an empty search (search=*), returning an unranked list (search score = 1.0) of arbitrary documents.\n",
    "# Because there are no criteria, all documents are included in results\n",
    "results = search_client.search(search_text=\"*\", include_total_count=True)\n",
    "\n",
    "print ('Total Documents Matching Query:', results.get_count())\n",
    "for result in results:\n",
    "    print(\"{}: {}\".format(result[\"HotelId\"], result[\"HotelName\"]))"
   ]
  },
  {
   "cell_type": "code",
   "execution_count": 18,
   "metadata": {},
   "outputs": [
    {
     "name": "stdout",
     "output_type": "stream",
     "text": [
      "Total Documents Matching Query: 1\n",
      "2: Twin Dome Motel: ['pool', 'free wifi', 'concierge']\n"
     ]
    }
   ],
   "source": [
    "# adds whole terms to the search expression (\"wifi\")\n",
    "# specifies that results contain only those fields in the `select` statement\n",
    "# reduces data sent/rcved\n",
    "# NOTE: searches all fields, even if they aren't in `select` stmt\n",
    "\n",
    "results = search_client.search(search_text=\"wifi\", include_total_count=True, select='HotelId,HotelName,Tags')\n",
    "\n",
    "print ('Total Documents Matching Query:', results.get_count())\n",
    "for result in results:\n",
    "    print(\"{}: {}: {}\".format(result[\"HotelId\"], result[\"HotelName\"], result[\"Tags\"]))"
   ]
  },
  {
   "cell_type": "code",
   "execution_count": 19,
   "metadata": {},
   "outputs": [
    {
     "name": "stdout",
     "output_type": "stream",
     "text": [
      "3: Triple Landscape Hotel - 4.8 rating\n",
      "4: Sublime Cliff Hotel - 4.6 rating\n"
     ]
    }
   ],
   "source": [
    "# filter, sort\n",
    "results = search_client.search(search_text=\"hotels\", \n",
    "                               select='HotelId,HotelName,Rating', \n",
    "                               filter='Rating gt 4', \n",
    "                               order_by='Rating desc')\n",
    "\n",
    "for result in results:\n",
    "    print(\"{}: {} - {} rating\".format(result[\"HotelId\"], result[\"HotelName\"], result[\"Rating\"]))"
   ]
  },
  {
   "cell_type": "code",
   "execution_count": 22,
   "metadata": {},
   "outputs": [
    {
     "name": "stdout",
     "output_type": "stream",
     "text": [
      "4: Sublime Cliff Hotel\n"
     ]
    }
   ],
   "source": [
    "# scope query matching\n",
    "\n",
    "results = search_client.search(search_text=\"sublime\", search_fields=['HotelName'], select='HotelId,HotelName')\n",
    "\n",
    "for result in results:\n",
    "    print(\"{}: {}\".format(result[\"HotelId\"], result[\"HotelName\"]))"
   ]
  },
  {
   "cell_type": "code",
   "execution_count": 23,
   "metadata": {},
   "outputs": [
    {
     "name": "stdout",
     "output_type": "stream",
     "text": [
      "    {'value': 'Boutique', 'count': 3}\n",
      "    {'value': 'Resort and Spa', 'count': 1}\n"
     ]
    }
   ],
   "source": [
    "# add facets and counts\n",
    "# back to a match-everything search\n",
    "\n",
    "results = search_client.search(search_text=\"*\", facets=[\"Category\"])\n",
    "\n",
    "facets = results.get_facets()\n",
    "\n",
    "for facet in facets[\"Category\"]:\n",
    "    print(\"    {}\".format(facet))"
   ]
  },
  {
   "cell_type": "code",
   "execution_count": 24,
   "metadata": {},
   "outputs": [
    {
     "name": "stdout",
     "output_type": "stream",
     "text": [
      "Details for hotel '3' are:\n",
      "Name: Triple Landscape Hotel\n",
      "Rating: 4.8\n",
      "Category: Resort and Spa\n"
     ]
    }
   ],
   "source": [
    "# just return a single doc by id (\"key\")\n",
    "# we specified that HotelId was the key like:\n",
    "# SimpleField(name=\"HotelId\", type=SearchFieldDataType.String, key=True)\n",
    "\n",
    "result = search_client.get_document(key=\"3\")\n",
    "\n",
    "print(\"Details for hotel '3' are:\")\n",
    "print(\"Name: {}\".format(result[\"HotelName\"]))\n",
    "print(\"Rating: {}\".format(result[\"Rating\"]))\n",
    "print(\"Category: {}\".format(result[\"Category\"]))"
   ]
  },
  {
   "cell_type": "code",
   "execution_count": 26,
   "metadata": {},
   "outputs": [
    {
     "name": "stdout",
     "output_type": "stream",
     "text": [
      "Autocomplete for: sa\n",
      "san antonio\n",
      "sarasota\n"
     ]
    }
   ],
   "source": [
    "# ooh fun, autocomplete!\n",
    "# When the index was created, a suggester named sg was also created as part of the request\n",
    "# suggester = [{'name': 'sg', 'source_fields': ['Tags', 'Address/City', 'Address/Country']}]\n",
    "# what does `twoTerms` mean?\n",
    "\n",
    "search_suggestion = 'sa'\n",
    "results = search_client.autocomplete(search_text=search_suggestion, suggester_name=\"sg\", mode='twoTerms')\n",
    "\n",
    "print(\"Autocomplete for:\", search_suggestion)\n",
    "for result in results:\n",
    "    print (result['text'])"
   ]
  },
  {
   "cell_type": "code",
   "execution_count": 32,
   "metadata": {},
   "outputs": [
    {
     "name": "stdout",
     "output_type": "stream",
     "text": [
      "{\n",
      "  \"@search.captions\": null,\n",
      "  \"@search.highlights\": null,\n",
      "  \"@search.reranker_score\": null,\n",
      "  \"@search.score\": 1.0,\n",
      "  \"Address\": {\n",
      "    \"City\": \"New York\",\n",
      "    \"Country\": \"USA\",\n",
      "    \"PostalCode\": \"10022\",\n",
      "    \"StateProvince\": \"NY\",\n",
      "    \"StreetAddress\": \"677 5th Ave\"\n",
      "  },\n",
      "  \"Category\": \"Boutique\",\n",
      "  \"Description\": \"The hotel is ideally located on the main commercial artery of the city in the heart of New York. A few minutes away is Time's Square and the historic centre of the city, as well as other places of interest that make New York one of America's most attractive and cosmopolitan cities.\",\n",
      "  \"Description_fr\": \"L'h\\u00f4tel est id\\u00e9alement situ\\u00e9 sur la principale art\\u00e8re commerciale de la ville en plein c\\u0153ur de New York. A quelques minutes se trouve la place du temps et le centre historique de la ville, ainsi que d'autres lieux d'int\\u00e9r\\u00eat qui font de New York l'une des villes les plus attractives et cosmopolites de l'Am\\u00e9rique.\",\n",
      "  \"HotelId\": \"1\",\n",
      "  \"HotelName\": \"Secret Point Motel\",\n",
      "  \"LastRenovationDate\": \"1970-01-18T00:00:00Z\",\n",
      "  \"ParkingIncluded\": false,\n",
      "  \"Rating\": 3.6,\n",
      "  \"Tags\": [\n",
      "    \"pool\",\n",
      "    \"air conditioning\",\n",
      "    \"concierge\"\n",
      "  ]\n",
      "}\n",
      "{\n",
      "  \"@search.captions\": null,\n",
      "  \"@search.highlights\": null,\n",
      "  \"@search.reranker_score\": null,\n",
      "  \"@search.score\": 1.0,\n",
      "  \"Address\": {\n",
      "    \"City\": \"Sarasota\",\n",
      "    \"Country\": \"USA\",\n",
      "    \"PostalCode\": \"34243\",\n",
      "    \"StateProvince\": \"FL\",\n",
      "    \"StreetAddress\": \"140 University Town Center Dr\"\n",
      "  },\n",
      "  \"Category\": \"Boutique\",\n",
      "  \"Description\": \"The hotel is situated in a  nineteenth century plaza, which has been expanded and renovated to the highest architectural standards to create a modern, functional and first-class hotel in which art and unique historical elements coexist with the most modern comforts.\",\n",
      "  \"Description_fr\": \"L'h\\u00f4tel est situ\\u00e9 dans une place du XIXe si\\u00e8cle, qui a \\u00e9t\\u00e9 agrandie et r\\u00e9nov\\u00e9e aux plus hautes normes architecturales pour cr\\u00e9er un h\\u00f4tel moderne, fonctionnel et de premi\\u00e8re classe dans lequel l'art et les \\u00e9l\\u00e9ments historiques uniques coexistent avec le confort le plus moderne.\",\n",
      "  \"HotelId\": \"2\",\n",
      "  \"HotelName\": \"Twin Dome Motel\",\n",
      "  \"LastRenovationDate\": \"1979-02-18T00:00:00Z\",\n",
      "  \"ParkingIncluded\": false,\n",
      "  \"Rating\": 3.6,\n",
      "  \"Tags\": [\n",
      "    \"pool\",\n",
      "    \"free wifi\",\n",
      "    \"concierge\"\n",
      "  ]\n",
      "}\n",
      "{\n",
      "  \"@search.captions\": null,\n",
      "  \"@search.highlights\": null,\n",
      "  \"@search.reranker_score\": null,\n",
      "  \"@search.score\": 1.0,\n",
      "  \"Address\": {\n",
      "    \"City\": \"Atlanta\",\n",
      "    \"Country\": \"USA\",\n",
      "    \"PostalCode\": \"30326\",\n",
      "    \"StateProvince\": \"GA\",\n",
      "    \"StreetAddress\": \"3393 Peachtree Rd\"\n",
      "  },\n",
      "  \"Category\": \"Resort and Spa\",\n",
      "  \"Description\": \"The Hotel stands out for its gastronomic excellence under the management of William Dough, who advises on and oversees all of the Hotel's restaurant services.\",\n",
      "  \"Description_fr\": \"L'h\\u00f4tel est situ\\u00e9 dans une place du XIXe si\\u00e8cle, qui a \\u00e9t\\u00e9 agrandie et r\\u00e9nov\\u00e9e aux plus hautes normes architecturales pour cr\\u00e9er un h\\u00f4tel moderne, fonctionnel et de premi\\u00e8re classe dans lequel l'art et les \\u00e9l\\u00e9ments historiques uniques coexistent avec le confort le plus moderne.\",\n",
      "  \"HotelId\": \"3\",\n",
      "  \"HotelName\": \"Triple Landscape Hotel\",\n",
      "  \"LastRenovationDate\": \"2015-09-20T00:00:00Z\",\n",
      "  \"ParkingIncluded\": true,\n",
      "  \"Rating\": 4.8,\n",
      "  \"Tags\": [\n",
      "    \"air conditioning\",\n",
      "    \"bar\",\n",
      "    \"continental breakfast\"\n",
      "  ]\n",
      "}\n",
      "{\n",
      "  \"@search.captions\": null,\n",
      "  \"@search.highlights\": null,\n",
      "  \"@search.reranker_score\": null,\n",
      "  \"@search.score\": 1.0,\n",
      "  \"Address\": {\n",
      "    \"City\": \"San Antonio\",\n",
      "    \"Country\": \"USA\",\n",
      "    \"PostalCode\": \"78216\",\n",
      "    \"StateProvince\": \"TX\",\n",
      "    \"StreetAddress\": \"7400 San Pedro Ave\"\n",
      "  },\n",
      "  \"Category\": \"Boutique\",\n",
      "  \"Description\": \"Sublime Cliff Hotel is located in the heart of the historic center of Sublime in an extremely vibrant and lively area within short walking distance to the sites and landmarks of the city and is surrounded by the extraordinary beauty of churches, buildings, shops and monuments. Sublime Cliff is part of a lovingly restored 1800 palace.\",\n",
      "  \"Description_fr\": \"Le sublime Cliff Hotel est situ\\u00e9 au coeur du centre historique de sublime dans un quartier extr\\u00eamement anim\\u00e9 et vivant, \\u00e0 courte distance de marche des sites et monuments de la ville et est entour\\u00e9 par l'extraordinaire beaut\\u00e9 des \\u00e9glises, des b\\u00e2timents, des commerces et Monuments. Sublime Cliff fait partie d'un Palace 1800 restaur\\u00e9 avec amour.\",\n",
      "  \"HotelId\": \"4\",\n",
      "  \"HotelName\": \"Sublime Cliff Hotel\",\n",
      "  \"LastRenovationDate\": \"1960-02-06T00:00:00Z\",\n",
      "  \"ParkingIncluded\": true,\n",
      "  \"Rating\": 4.6,\n",
      "  \"Tags\": [\n",
      "    \"concierge\",\n",
      "    \"view\",\n",
      "    \"24-hour front desk service\"\n",
      "  ]\n",
      "}\n"
     ]
    }
   ],
   "source": [
    "# what do we actually get back?\n",
    "import json\n",
    "\n",
    "results = search_client.search(search_text=\"*\", include_total_count=True)\n",
    "\n",
    "for res in results:\n",
    "    print(json.dumps(res, sort_keys=True, indent=2))"
   ]
  },
  {
   "cell_type": "code",
   "execution_count": 18,
   "metadata": {},
   "outputs": [
    {
     "name": "stdout",
     "output_type": "stream",
     "text": [
      "{\n",
      "  \"@search.captions\": null,\n",
      "  \"@search.highlights\": null,\n",
      "  \"@search.reranker_score\": null,\n",
      "  \"@search.score\": 1.0,\n",
      "  \"Address\": {\n",
      "    \"City\": \"New York\",\n",
      "    \"Country\": \"USA\",\n",
      "    \"PostalCode\": \"10022\",\n",
      "    \"StateProvince\": \"NY\",\n",
      "    \"StreetAddress\": \"677 5th Ave\"\n",
      "  },\n",
      "  \"Category\": \"Boutique\",\n",
      "  \"Description\": \"The hotel is ideally located on the main commercial artery of the city in the heart of New York. A few minutes away is Time's Square and the historic centre of the city, as well as other places of interest that make New York one of America's most attractive and cosmopolitan cities.\",\n",
      "  \"Description_fr\": \"L'h\\u00f4tel est id\\u00e9alement situ\\u00e9 sur la principale art\\u00e8re commerciale de la ville en plein c\\u0153ur de New York. A quelques minutes se trouve la place du temps et le centre historique de la ville, ainsi que d'autres lieux d'int\\u00e9r\\u00eat qui font de New York l'une des villes les plus attractives et cosmopolites de l'Am\\u00e9rique.\",\n",
      "  \"HotelId\": \"1\",\n",
      "  \"HotelName\": \"Secret Point Motel IS CHANGED NOW!\",\n",
      "  \"LastRenovationDate\": \"1970-01-18T00:00:00Z\",\n",
      "  \"ParkingIncluded\": false,\n",
      "  \"Rating\": 3.6,\n",
      "  \"Tags\": [\n",
      "    \"pool\",\n",
      "    \"air conditioning\",\n",
      "    \"concierge\"\n",
      "  ]\n",
      "}\n"
     ]
    }
   ],
   "source": [
    "# what about when we do an actual search?\n",
    "# NOTE: `change*` matches `changed` but `change` does not -- did we do any stemming/lemmatization?\n",
    "\n",
    "import json\n",
    "\n",
    "results = search_client.search(search_text=\"change*\", include_total_count=True)\n",
    "\n",
    "for res in results:\n",
    "    print(json.dumps(res, sort_keys=True, indent=2))"
   ]
  }
 ],
 "metadata": {
  "kernelspec": {
   "display_name": "azure",
   "language": "python",
   "name": "azure"
  },
  "language_info": {
   "codemirror_mode": {
    "name": "ipython",
    "version": 3
   },
   "file_extension": ".py",
   "mimetype": "text/x-python",
   "name": "python",
   "nbconvert_exporter": "python",
   "pygments_lexer": "ipython3",
   "version": "3.10.8"
  }
 },
 "nbformat": 4,
 "nbformat_minor": 2
}
